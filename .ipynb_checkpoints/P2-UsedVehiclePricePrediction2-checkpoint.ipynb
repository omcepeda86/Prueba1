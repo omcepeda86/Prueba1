{
 "cells": [
  {
   "cell_type": "markdown",
   "metadata": {},
   "source": [
    "# Project 2\n",
    "\n",
    "# Used Vehicle Price Prediction"
   ]
  },
  {
   "cell_type": "markdown",
   "metadata": {},
   "source": [
    "## Introduction\n",
    "\n",
    "- 1.2 Million listings scraped from TrueCar.com - Price, Mileage, Make, Model dataset from Kaggle: [data](https://www.kaggle.com/jpayne/852k-used-car-listings)\n",
    "- Each observation represents the price of an used car"
   ]
  },
  {
   "cell_type": "code",
   "execution_count": 72,
   "metadata": {},
   "outputs": [],
   "source": [
    "%matplotlib inline\n",
    "import pandas as pd\n",
    "import numpy as np\n"
   ]
  },
  {
   "cell_type": "code",
   "execution_count": 2,
   "metadata": {},
   "outputs": [],
   "source": [
    "data = pd.read_csv('../datasets/dataTrain_carListings.zip')"
   ]
  },
  {
   "cell_type": "code",
   "execution_count": 3,
   "metadata": {},
   "outputs": [
    {
     "data": {
      "text/html": [
       "<div>\n",
       "<style scoped>\n",
       "    .dataframe tbody tr th:only-of-type {\n",
       "        vertical-align: middle;\n",
       "    }\n",
       "\n",
       "    .dataframe tbody tr th {\n",
       "        vertical-align: top;\n",
       "    }\n",
       "\n",
       "    .dataframe thead th {\n",
       "        text-align: right;\n",
       "    }\n",
       "</style>\n",
       "<table border=\"1\" class=\"dataframe\">\n",
       "  <thead>\n",
       "    <tr style=\"text-align: right;\">\n",
       "      <th></th>\n",
       "      <th>Price</th>\n",
       "      <th>Year</th>\n",
       "      <th>Mileage</th>\n",
       "      <th>State</th>\n",
       "      <th>Make</th>\n",
       "      <th>Model</th>\n",
       "    </tr>\n",
       "  </thead>\n",
       "  <tbody>\n",
       "    <tr>\n",
       "      <th>0</th>\n",
       "      <td>21490</td>\n",
       "      <td>2014</td>\n",
       "      <td>31909</td>\n",
       "      <td>MD</td>\n",
       "      <td>Nissan</td>\n",
       "      <td>MuranoAWD</td>\n",
       "    </tr>\n",
       "    <tr>\n",
       "      <th>1</th>\n",
       "      <td>21250</td>\n",
       "      <td>2016</td>\n",
       "      <td>25741</td>\n",
       "      <td>KY</td>\n",
       "      <td>Chevrolet</td>\n",
       "      <td>CamaroCoupe</td>\n",
       "    </tr>\n",
       "    <tr>\n",
       "      <th>2</th>\n",
       "      <td>20925</td>\n",
       "      <td>2016</td>\n",
       "      <td>24633</td>\n",
       "      <td>SC</td>\n",
       "      <td>Hyundai</td>\n",
       "      <td>Santa</td>\n",
       "    </tr>\n",
       "    <tr>\n",
       "      <th>3</th>\n",
       "      <td>14500</td>\n",
       "      <td>2012</td>\n",
       "      <td>84026</td>\n",
       "      <td>OK</td>\n",
       "      <td>Jeep</td>\n",
       "      <td>Grand</td>\n",
       "    </tr>\n",
       "    <tr>\n",
       "      <th>4</th>\n",
       "      <td>32488</td>\n",
       "      <td>2013</td>\n",
       "      <td>22816</td>\n",
       "      <td>TN</td>\n",
       "      <td>Jeep</td>\n",
       "      <td>Wrangler</td>\n",
       "    </tr>\n",
       "  </tbody>\n",
       "</table>\n",
       "</div>"
      ],
      "text/plain": [
       "   Price  Year  Mileage State       Make        Model\n",
       "0  21490  2014    31909    MD     Nissan    MuranoAWD\n",
       "1  21250  2016    25741    KY  Chevrolet  CamaroCoupe\n",
       "2  20925  2016    24633    SC    Hyundai        Santa\n",
       "3  14500  2012    84026    OK       Jeep        Grand\n",
       "4  32488  2013    22816    TN       Jeep     Wrangler"
      ]
     },
     "execution_count": 3,
     "metadata": {},
     "output_type": "execute_result"
    }
   ],
   "source": [
    "data.head()"
   ]
  },
  {
   "cell_type": "code",
   "execution_count": 4,
   "metadata": {},
   "outputs": [
    {
     "data": {
      "text/plain": [
       "(500000, 6)"
      ]
     },
     "execution_count": 4,
     "metadata": {},
     "output_type": "execute_result"
    }
   ],
   "source": [
    "data.shape"
   ]
  },
  {
   "cell_type": "code",
   "execution_count": 5,
   "metadata": {},
   "outputs": [
    {
     "data": {
      "text/plain": [
       "count    500000.000000\n",
       "mean      21144.186304\n",
       "std       10753.259704\n",
       "min        5001.000000\n",
       "25%       13499.000000\n",
       "50%       18450.000000\n",
       "75%       26998.000000\n",
       "max       79999.000000\n",
       "Name: Price, dtype: float64"
      ]
     },
     "execution_count": 5,
     "metadata": {},
     "output_type": "execute_result"
    }
   ],
   "source": [
    "data.Price.describe()"
   ]
  },
  {
   "cell_type": "code",
   "execution_count": 6,
   "metadata": {},
   "outputs": [
    {
     "data": {
      "text/plain": [
       "<matplotlib.axes._subplots.AxesSubplot at 0x1f06e244e88>"
      ]
     },
     "execution_count": 6,
     "metadata": {},
     "output_type": "execute_result"
    },
    {
     "data": {
      "image/png": "[encoded data removed]",
      "text/plain": [
       "<Figure size 432x288 with 1 Axes>"
      ]
     },
     "metadata": {
      "needs_background": "light"
     },
     "output_type": "display_data"
    }
   ],
   "source": [
    "data.plot(kind='scatter', y='Price', x='Year')"
   ]
  },
  {
   "cell_type": "code",
   "execution_count": 7,
   "metadata": {},
   "outputs": [
    {
     "data": {
      "text/plain": [
       "<matplotlib.axes._subplots.AxesSubplot at 0x1f0700c1ec8>"
      ]
     },
     "execution_count": 7,
     "metadata": {},
     "output_type": "execute_result"
    },
    {
     "data": {
      "image/png": "[encoded data removed]",
      "text/plain": [
       "<Figure size 432x288 with 1 Axes>"
      ]
     },
     "metadata": {
      "needs_background": "light"
     },
     "output_type": "display_data"
    }
   ],
   "source": [
    "data.plot(kind='scatter', y='Price', x='Mileage')"
   ]
  },
  {
   "cell_type": "code",
   "execution_count": 8,
   "metadata": {},
   "outputs": [
    {
     "data": {
      "text/plain": [
       "Index(['Price', 'Year', 'Mileage', 'State', 'Make', 'Model'], dtype='object')"
      ]
     },
     "execution_count": 8,
     "metadata": {},
     "output_type": "execute_result"
    }
   ],
   "source": [
    "data.columns"
   ]
  },
  {
   "cell_type": "markdown",
   "metadata": {},
   "source": [
    "# Exercise P2.1 (50%)\n",
    "\n",
    "Develop a machine learning model that predicts the price of the of car using as an input ['Year', 'Mileage', 'State', 'Make', 'Model']\n",
    "\n",
    "#### Evaluation:\n",
    "- 25% - Performance of the models using a manually implemented K-Fold (K=10) cross-validation\n",
    "- 25% - Notebook explaining the process for selecting the best model. You must specify how the calibration of each of the parameters is done and how these change the performance of the model. It is expected that a clear comparison will be made of all implemented models.. Present the most relevant conslusions about the whole process. \n"
   ]
  },
  {
   "cell_type": "code",
   "execution_count": 262,
   "metadata": {},
   "outputs": [],
   "source": [
    "from sklearn.model_selection import train_test_split\n",
    "from sklearn.ensemble import RandomForestRegressor\n",
    "from sklearn.model_selection import GridSearchCV\n",
    "from sklearn.tree import DecisionTreeRegressor\n",
    "# gradient boosting\n",
    "from sklearn import ensemble\n",
    "\n",
    "# scikit-learn k-fold\n",
    "from sklearn.model_selection import KFold\n"
   ]
  },
  {
   "cell_type": "code",
   "execution_count": 11,
   "metadata": {},
   "outputs": [],
   "source": [
    "regr = RandomForestRegressor(random_state=0)"
   ]
  },
  {
   "cell_type": "code",
   "execution_count": 28,
   "metadata": {},
   "outputs": [
    {
     "data": {
      "text/plain": [
       "51"
      ]
     },
     "execution_count": 28,
     "metadata": {},
     "output_type": "execute_result"
    }
   ],
   "source": [
    "len = pd.value_counts(data['State'])\n",
    "len.shape[0]"
   ]
  },
  {
   "cell_type": "code",
   "execution_count": 29,
   "metadata": {},
   "outputs": [
    {
     "data": {
      "text/plain": [
       "38"
      ]
     },
     "execution_count": 29,
     "metadata": {},
     "output_type": "execute_result"
    }
   ],
   "source": [
    "len1 = pd.value_counts(data['Make'])\n",
    "len1.shape[0]"
   ]
  },
  {
   "cell_type": "code",
   "execution_count": 30,
   "metadata": {},
   "outputs": [
    {
     "data": {
      "text/plain": [
       "525"
      ]
     },
     "execution_count": 30,
     "metadata": {},
     "output_type": "execute_result"
    }
   ],
   "source": [
    "len2 = pd.value_counts(data['Model'])\n",
    "len2.shape[0]"
   ]
  },
  {
   "cell_type": "code",
   "execution_count": 68,
   "metadata": {},
   "outputs": [
    {
     "data": {
      "text/html": [
       "<div>\n",
       "<style scoped>\n",
       "    .dataframe tbody tr th:only-of-type {\n",
       "        vertical-align: middle;\n",
       "    }\n",
       "\n",
       "    .dataframe tbody tr th {\n",
       "        vertical-align: top;\n",
       "    }\n",
       "\n",
       "    .dataframe thead th {\n",
       "        text-align: right;\n",
       "    }\n",
       "</style>\n",
       "<table border=\"1\" class=\"dataframe\">\n",
       "  <thead>\n",
       "    <tr style=\"text-align: right;\">\n",
       "      <th></th>\n",
       "      <th>Price</th>\n",
       "      <th>Year</th>\n",
       "      <th>Mileage</th>\n",
       "      <th>AK</th>\n",
       "      <th>AL</th>\n",
       "      <th>AR</th>\n",
       "      <th>AZ</th>\n",
       "      <th>CA</th>\n",
       "      <th>CO</th>\n",
       "      <th>CT</th>\n",
       "      <th>...</th>\n",
       "      <th>Yaris4dr</th>\n",
       "      <th>YarisBase</th>\n",
       "      <th>YarisLE</th>\n",
       "      <th>Yukon</th>\n",
       "      <th>Yukon2WD</th>\n",
       "      <th>Yukon4WD</th>\n",
       "      <th>Yukon4dr</th>\n",
       "      <th>tC2dr</th>\n",
       "      <th>xB5dr</th>\n",
       "      <th>xD5dr</th>\n",
       "    </tr>\n",
       "  </thead>\n",
       "  <tbody>\n",
       "    <tr>\n",
       "      <th>0</th>\n",
       "      <td>21490</td>\n",
       "      <td>2014</td>\n",
       "      <td>31909</td>\n",
       "      <td>0</td>\n",
       "      <td>0</td>\n",
       "      <td>0</td>\n",
       "      <td>0</td>\n",
       "      <td>0</td>\n",
       "      <td>0</td>\n",
       "      <td>0</td>\n",
       "      <td>...</td>\n",
       "      <td>0</td>\n",
       "      <td>0</td>\n",
       "      <td>0</td>\n",
       "      <td>0</td>\n",
       "      <td>0</td>\n",
       "      <td>0</td>\n",
       "      <td>0</td>\n",
       "      <td>0</td>\n",
       "      <td>0</td>\n",
       "      <td>0</td>\n",
       "    </tr>\n",
       "    <tr>\n",
       "      <th>1</th>\n",
       "      <td>21250</td>\n",
       "      <td>2016</td>\n",
       "      <td>25741</td>\n",
       "      <td>0</td>\n",
       "      <td>0</td>\n",
       "      <td>0</td>\n",
       "      <td>0</td>\n",
       "      <td>0</td>\n",
       "      <td>0</td>\n",
       "      <td>0</td>\n",
       "      <td>...</td>\n",
       "      <td>0</td>\n",
       "      <td>0</td>\n",
       "      <td>0</td>\n",
       "      <td>0</td>\n",
       "      <td>0</td>\n",
       "      <td>0</td>\n",
       "      <td>0</td>\n",
       "      <td>0</td>\n",
       "      <td>0</td>\n",
       "      <td>0</td>\n",
       "    </tr>\n",
       "    <tr>\n",
       "      <th>2</th>\n",
       "      <td>20925</td>\n",
       "      <td>2016</td>\n",
       "      <td>24633</td>\n",
       "      <td>0</td>\n",
       "      <td>0</td>\n",
       "      <td>0</td>\n",
       "      <td>0</td>\n",
       "      <td>0</td>\n",
       "      <td>0</td>\n",
       "      <td>0</td>\n",
       "      <td>...</td>\n",
       "      <td>0</td>\n",
       "      <td>0</td>\n",
       "      <td>0</td>\n",
       "      <td>0</td>\n",
       "      <td>0</td>\n",
       "      <td>0</td>\n",
       "      <td>0</td>\n",
       "      <td>0</td>\n",
       "      <td>0</td>\n",
       "      <td>0</td>\n",
       "    </tr>\n",
       "    <tr>\n",
       "      <th>3</th>\n",
       "      <td>14500</td>\n",
       "      <td>2012</td>\n",
       "      <td>84026</td>\n",
       "      <td>0</td>\n",
       "      <td>0</td>\n",
       "      <td>0</td>\n",
       "      <td>0</td>\n",
       "      <td>0</td>\n",
       "      <td>0</td>\n",
       "      <td>0</td>\n",
       "      <td>...</td>\n",
       "      <td>0</td>\n",
       "      <td>0</td>\n",
       "      <td>0</td>\n",
       "      <td>0</td>\n",
       "      <td>0</td>\n",
       "      <td>0</td>\n",
       "      <td>0</td>\n",
       "      <td>0</td>\n",
       "      <td>0</td>\n",
       "      <td>0</td>\n",
       "    </tr>\n",
       "    <tr>\n",
       "      <th>4</th>\n",
       "      <td>32488</td>\n",
       "      <td>2013</td>\n",
       "      <td>22816</td>\n",
       "      <td>0</td>\n",
       "      <td>0</td>\n",
       "      <td>0</td>\n",
       "      <td>0</td>\n",
       "      <td>0</td>\n",
       "      <td>0</td>\n",
       "      <td>0</td>\n",
       "      <td>...</td>\n",
       "      <td>0</td>\n",
       "      <td>0</td>\n",
       "      <td>0</td>\n",
       "      <td>0</td>\n",
       "      <td>0</td>\n",
       "      <td>0</td>\n",
       "      <td>0</td>\n",
       "      <td>0</td>\n",
       "      <td>0</td>\n",
       "      <td>0</td>\n",
       "    </tr>\n",
       "  </tbody>\n",
       "</table>\n",
       "<p>5 rows × 617 columns</p>\n",
       "</div>"
      ],
      "text/plain": [
       "   Price  Year  Mileage   AK   AL   AR   AZ   CA   CO   CT  ...  Yaris4dr  \\\n",
       "0  21490  2014    31909    0    0    0    0    0    0    0  ...         0   \n",
       "1  21250  2016    25741    0    0    0    0    0    0    0  ...         0   \n",
       "2  20925  2016    24633    0    0    0    0    0    0    0  ...         0   \n",
       "3  14500  2012    84026    0    0    0    0    0    0    0  ...         0   \n",
       "4  32488  2013    22816    0    0    0    0    0    0    0  ...         0   \n",
       "\n",
       "   YarisBase  YarisLE  Yukon  Yukon2WD  Yukon4WD  Yukon4dr  tC2dr  xB5dr  \\\n",
       "0          0        0      0         0         0         0      0      0   \n",
       "1          0        0      0         0         0         0      0      0   \n",
       "2          0        0      0         0         0         0      0      0   \n",
       "3          0        0      0         0         0         0      0      0   \n",
       "4          0        0      0         0         0         0      0      0   \n",
       "\n",
       "   xD5dr  \n",
       "0      0  \n",
       "1      0  \n",
       "2      0  \n",
       "3      0  \n",
       "4      0  \n",
       "\n",
       "[5 rows x 617 columns]"
      ]
     },
     "execution_count": 68,
     "metadata": {},
     "output_type": "execute_result"
    }
   ],
   "source": [
    "# Base OK todo binario\n",
    "from sklearn.preprocessing import LabelBinarizer\n",
    "\n",
    "lb_style=LabelBinarizer()\n",
    "lb_results=lb_style.fit_transform(data['State'])\n",
    "convertidos=pd.DataFrame(lb_results, columns=lb_style.classes_)\n",
    "\n",
    "lb_style=LabelBinarizer()\n",
    "lb_results=lb_style.fit_transform(data['Make'])\n",
    "convertidos1=pd.DataFrame(lb_results, columns=lb_style.classes_)\n",
    "\n",
    "lb_style=LabelBinarizer()\n",
    "lb_results=lb_style.fit_transform(data['Model'])\n",
    "convertidos2=pd.DataFrame(lb_results, columns=lb_style.classes_)\n",
    "\n",
    "df=data.drop(['State','Make','Model'], axis=1)\n",
    "df=pd.concat([df, convertidos, convertidos1, convertidos2], axis=1)\n",
    "df.head()"
   ]
  },
  {
   "cell_type": "code",
   "execution_count": 71,
   "metadata": {},
   "outputs": [],
   "source": [
    "# Selección train y test\n",
    "X = df.drop(['Price'], axis=1)\n",
    "y = df.loc[:, ['Price']]\n",
    "\n",
    "X_train, X_test, y_train, y_test = train_test_split(X, y, test_size=0.3,random_state=42)"
   ]
  },
  {
   "cell_type": "code",
   "execution_count": 44,
   "metadata": {},
   "outputs": [],
   "source": [
    "#intento selección parametros con grid\n",
    "param_grid = {\n",
    "    'n_estimators': [20, 50],\n",
    "    'max_features': ['auto', 'sqrt', 'log2'],\n",
    "    'max_depth' : [4,7],\n",
    "    'min_samples_split': [2, 5, 10], \n",
    "    'min_samples_leaf': [10, 15]\n",
    "    }\n",
    " \n",
    "CV_regr = GridSearchCV(estimator=regr, param_grid=param_grid, cv= 10, n_jobs = -1, verbose = 1)"
   ]
  },
  {
   "cell_type": "code",
   "execution_count": 45,
   "metadata": {},
   "outputs": [
    {
     "name": "stdout",
     "output_type": "stream",
     "text": [
      "Fitting 10 folds for each of 72 candidates, totalling 720 fits\n"
     ]
    },
    {
     "name": "stderr",
     "output_type": "stream",
     "text": [
      "[Parallel(n_jobs=-1)]: Using backend LokyBackend with 8 concurrent workers.\n",
      "[Parallel(n_jobs=-1)]: Done  34 tasks      | elapsed:  9.7min\n",
      "[Parallel(n_jobs=-1)]: Done 184 tasks      | elapsed: 35.9min\n",
      "[Parallel(n_jobs=-1)]: Done 434 tasks      | elapsed: 78.4min\n",
      "[Parallel(n_jobs=-1)]: Done 720 out of 720 | elapsed: 117.0min finished\n",
      "C:\\Users\\Laboratorios FICB\\anaconda3\\lib\\site-packages\\sklearn\\model_selection\\_search.py:739: DataConversionWarning: A column-vector y was passed when a 1d array was expected. Please change the shape of y to (n_samples,), for example using ravel().\n",
      "  self.best_estimator_.fit(X, y, **fit_params)\n"
     ]
    },
    {
     "data": {
      "text/plain": [
       "GridSearchCV(cv=10, error_score=nan,\n",
       "             estimator=RandomForestRegressor(bootstrap=True, ccp_alpha=0.0,\n",
       "                                             criterion='mse', max_depth=None,\n",
       "                                             max_features='auto',\n",
       "                                             max_leaf_nodes=None,\n",
       "                                             max_samples=None,\n",
       "                                             min_impurity_decrease=0.0,\n",
       "                                             min_impurity_split=None,\n",
       "                                             min_samples_leaf=1,\n",
       "                                             min_samples_split=2,\n",
       "                                             min_weight_fraction_leaf=0.0,\n",
       "                                             n_estimators=100, n_jobs=None,\n",
       "                                             oob_score=False, random_state=0,\n",
       "                                             verbose=0, warm_start=False),\n",
       "             iid='deprecated', n_jobs=-1,\n",
       "             param_grid={'max_depth': [4, 7],\n",
       "                         'max_features': ['auto', 'sqrt', 'log2'],\n",
       "                         'min_samples_leaf': [10, 15],\n",
       "                         'min_samples_split': [2, 5, 10],\n",
       "                         'n_estimators': [20, 50]},\n",
       "             pre_dispatch='2*n_jobs', refit=True, return_train_score=False,\n",
       "             scoring=None, verbose=1)"
      ]
     },
     "execution_count": 45,
     "metadata": {},
     "output_type": "execute_result"
    }
   ],
   "source": [
    "#resultado\n",
    "CV_regr.fit(X_train, y_train)"
   ]
  },
  {
   "cell_type": "code",
   "execution_count": 46,
   "metadata": {},
   "outputs": [
    {
     "data": {
      "text/plain": [
       "{'max_depth': 7,\n",
       " 'max_features': 'auto',\n",
       " 'min_samples_leaf': 10,\n",
       " 'min_samples_split': 2,\n",
       " 'n_estimators': 50}"
      ]
     },
     "execution_count": 46,
     "metadata": {},
     "output_type": "execute_result"
    }
   ],
   "source": [
    "# impresión mejores parametros\n",
    "CV_regr.best_params_"
   ]
  },
  {
   "cell_type": "code",
   "execution_count": 57,
   "metadata": {},
   "outputs": [
    {
     "name": "stderr",
     "output_type": "stream",
     "text": [
      "C:\\Users\\Laboratorios FICB\\anaconda3\\lib\\site-packages\\ipykernel_launcher.py:4: DataConversionWarning: A column-vector y was passed when a 1d array was expected. Please change the shape of y to (n_samples,), for example using ravel().\n",
      "  after removing the cwd from sys.path.\n"
     ]
    },
    {
     "data": {
      "text/plain": [
       "RandomForestRegressor(bootstrap=True, ccp_alpha=0.0, criterion='mse',\n",
       "                      max_depth=7, max_features='auto', max_leaf_nodes=None,\n",
       "                      max_samples=None, min_impurity_decrease=0.0,\n",
       "                      min_impurity_split=None, min_samples_leaf=10,\n",
       "                      min_samples_split=2, min_weight_fraction_leaf=0.0,\n",
       "                      n_estimators=50, n_jobs=None, oob_score=False,\n",
       "                      random_state=None, verbose=0, warm_start=False)"
      ]
     },
     "execution_count": 57,
     "metadata": {},
     "output_type": "execute_result"
    }
   ],
   "source": [
    "# Modelo con mejores párametros\n",
    "regre2 = RandomForestRegressor(n_estimators=50, max_depth=7, min_samples_split=2, min_samples_leaf=10, max_features='auto')\n",
    "regre2.fit(X_train, y_train)\n",
    "#pred_y=regre2.predict(X_test)"
   ]
  },
  {
   "cell_type": "code",
   "execution_count": 61,
   "metadata": {},
   "outputs": [
    {
     "data": {
      "text/plain": [
       "(52,)"
      ]
     },
     "execution_count": 61,
     "metadata": {},
     "output_type": "execute_result"
    }
   ],
   "source": [
    "# importancía de las variables\n",
    "ValIMP = regre2.feature_importances_\n",
    "ValIMP.shape"
   ]
  },
  {
   "cell_type": "markdown",
   "metadata": {},
   "source": [
    "# Construcción validación cruzada\n",
    "\n",
    "A continuación se construye la función de cross validation, la función recibe la muestra de X y de Y, y la divide en el número de folds deseados (en este caso 10), para cada fold determina el mse y promedia los mse obtenidos"
   ]
  },
  {
   "cell_type": "code",
   "execution_count": 341,
   "metadata": {},
   "outputs": [],
   "source": [
    "# Función Cross Validation con arboles (manual)\n",
    "def croossTree(Pf, x1, y1):\n",
    "\n",
    "    # lista para cargar los mse\n",
    "    a= list()\n",
    "    \n",
    "    #Cantidad de folds\n",
    "    kfold=10\n",
    "    # Tamaño de la muestra actual para las pruebas\n",
    "    N_muestra = x1.shape[0]\n",
    "    #Selección de la muestra actual\n",
    "    muestra = df.iloc[0:round(N_muestra)]\n",
    "    # Tamaño de cada fold\n",
    "    n1 = round(N_muestra/kfold)\n",
    "\n",
    "    for j in range(kfold):\n",
    "        x_train1=x1.iloc[(n1*j):(n1*(j+1))]\n",
    "        y_train1=y1.iloc[(n1*j):(n1*(j+1))]\n",
    "\n",
    "        x_test1=x1.drop(range(n1*j,n1*(j+1)), axis=0)\n",
    "        y_test1=y1.drop(range(n1*j,n1*(j+1)), axis=0)\n",
    "    \n",
    "        regr_1 = DecisionTreeRegressor(max_depth=Pf)\n",
    "        #entrenamiento modelo\n",
    "        regr_1.fit(x_train1, y_train1)\n",
    "        #predicción\n",
    "        y_1 = regr_1.predict(x_test1)\n",
    "        y_2 = pd.DataFrame({'Price1': y_1}, index = x_test1.index)\n",
    "        #calculo mse\n",
    "        mse_i = np.mean((y_test1['Price']-y_2['Price1'])**2)\n",
    "        a.append(mse_i)\n",
    "\n",
    "    mse = np.mean(a)\n",
    "    return mse\n",
    "    "
   ]
  },
  {
   "cell_type": "markdown",
   "metadata": {},
   "source": [
    "Ajuste de datos para el desarrollo del cross validation"
   ]
  },
  {
   "cell_type": "code",
   "execution_count": 346,
   "metadata": {},
   "outputs": [],
   "source": [
    "# toma de muestra para calculos\n",
    "np.random.seed(123)\n",
    "n = 1 # número de muestras\n",
    "# cantidad de datos con los cuales se prueba el algoritmo 1% por ahora\n",
    "n_samples = round(df.shape[0]*0.1)\n",
    "# selecciona una muestra de datos para hacer pruebas de modelos\n",
    "samples = [np.random.choice(a=n_samples, size=n_samples, replace=False) for _ in range(1, n+1)]\n",
    "\n",
    "#Datos de prueba\n",
    "Prueba = df.iloc[samples[0], :]\n",
    "\n",
    "# División en x, y\n",
    "x0 = Prueba.drop(['Price'], axis=1)\n",
    "y0 = Prueba.loc[:, ['Price']]"
   ]
  },
  {
   "cell_type": "code",
   "execution_count": 347,
   "metadata": {},
   "outputs": [
    {
     "name": "stdout",
     "output_type": "stream",
     "text": [
      "2   87091547.53556775\n",
      "3   82343758.49213704\n",
      "4   78470473.35469684\n"
     ]
    }
   ],
   "source": [
    "# llamado función cross validation\n",
    "for i in range(2,5):\n",
    "    mseOK = croossTree(Pf = i, x1= x0, y1=y0)\n",
    "    print(i, \" \", mseOK)"
   ]
  },
  {
   "cell_type": "code",
   "execution_count": 319,
   "metadata": {
    "jupyter": {
     "source_hidden": true
    }
   },
   "outputs": [
    {
     "name": "stdout",
     "output_type": "stream",
     "text": [
      "500\n"
     ]
    }
   ],
   "source": [
    "# selección de muestras del k fold\n",
    "\n",
    "#Cantidad de folds\n",
    "kfold=10\n",
    "# Selección del tamaño de la muestra actual para las pruebas\n",
    "N_muestra = x1.shape[0]\n",
    "#Selección de la muestra actual\n",
    "muestra = df.iloc[0:round(N_muestra)]\n",
    "#print(muestra.head())\n",
    "# Tamaño de cada fold\n",
    "n1 = round(N_muestra/kfold)\n",
    "\n",
    "print(n1)\n",
    "for j in range(kfold):\n",
    "    x_train1=x1.iloc[(n1*j):(n1*(j+1))]\n",
    "    y_train1=y1.iloc[(n1*j):(n1*(j+1))]\n",
    "\n",
    "    x_test1=x1.drop(range(n1*j,n1*(j+1)), axis=0)\n",
    "    y_test1=y1.drop(range(n1*j,n1*(j+1)), axis=0)\n",
    "    \n",
    "    # selección de filas\n",
    "    #print(n1*j, \"   \", n1*(j+1))   \n",
    "    #print(y_test1.shape)\n",
    "                          "
   ]
  },
  {
   "cell_type": "code",
   "execution_count": 320,
   "metadata": {
    "jupyter": {
     "source_hidden": true
    }
   },
   "outputs": [],
   "source": [
    "# Cross Validation con arboles (semi manual)\n",
    "def croossTreeSM(Pf):\n",
    "\n",
    "    # data sample\n",
    "    data = np.array(range(n_samples))\n",
    "    # prepare cross validation\n",
    "    kfold = KFold(10, True, 1)\n",
    "\n",
    "    a= list()\n",
    "\n",
    "    # recorriendo divisiones\n",
    "    for train, test in kfold.split(data):\n",
    "        x_train1=x1.iloc[data[train]]\n",
    "        y_train1=y1.iloc[data[train]]\n",
    "\n",
    "        x_test1=x1.iloc[data[test]]\n",
    "        y_test1=y1.iloc[data[test]]\n",
    "\n",
    "        regr_1 = DecisionTreeRegressor(max_depth=Pf)\n",
    "        #entrenamiento modelo\n",
    "        regr_1.fit(x_train1, y_train1)\n",
    "        #predicción\n",
    "        y_1 = regr_1.predict(x_test1)\n",
    "        y_2 = pd.DataFrame({'Price1': y_1}, index = x_test1.index)\n",
    "        #calculo mse\n",
    "        mse_i = np.mean((y_test1['Price']-y_2['Price1'])**2)\n",
    "        a.append(mse_i)\n",
    "\n",
    "    mse = np.mean(a)\n",
    "    return mse\n",
    "    "
   ]
  },
  {
   "cell_type": "code",
   "execution_count": 331,
   "metadata": {},
   "outputs": [],
   "source": [
    "# Cross Validation con XGBoost\n",
    "def croossKG(ne):\n",
    "\n",
    "    # lista para cargar los mse\n",
    "    a= list()\n",
    "    \n",
    "    #Cantidad de folds\n",
    "    kfold=10\n",
    "    # Tamaño de la muestra actual para las pruebas\n",
    "    N_muestra = x1.shape[0]\n",
    "    #Selección de la muestra actual\n",
    "    muestra = df.iloc[0:round(N_muestra)]\n",
    "    # Tamaño de cada fold\n",
    "    n1 = round(N_muestra/kfold)\n",
    "\n",
    "    for j in range(kfold):\n",
    "        x_train1=x1.iloc[(n1*j):(n1*(j+1))]\n",
    "        y_train1=y1.iloc[(n1*j):(n1*(j+1))]\n",
    "\n",
    "        x_test1=x1.drop(range(n1*j,n1*(j+1)), axis=0)\n",
    "        y_test1=y1.drop(range(n1*j,n1*(j+1)), axis=0)\n",
    "    \n",
    "        regr_1 =  ensemble.GradientBoostingRegressor(n_estimators =ne, max_depth= 4,\n",
    "                                                     min_samples_split= 5, learning_rate= 0.01,loss= 'ls')\n",
    "\n",
    "        #entrenamiento modelo\n",
    "        regr_1.fit(x_train1, y_train1)\n",
    "        #predicción\n",
    "        y_1 = regr_1.predict(x_test1)\n",
    "        y_2 = pd.DataFrame({'Price1': y_1}, index = x_test1.index)\n",
    "        #calculo mse\n",
    "        mse_i = np.mean((y_test1['Price']-y_2['Price1'])**2)\n",
    "        a.append(mse_i)\n",
    "\n",
    "    mse = np.mean(a)\n",
    "    return mse\n",
    "    "
   ]
  },
  {
   "cell_type": "code",
   "execution_count": 333,
   "metadata": {},
   "outputs": [
    {
     "name": "stderr",
     "output_type": "stream",
     "text": [
      "C:\\Users\\Laboratorios FICB\\anaconda3\\lib\\site-packages\\sklearn\\ensemble\\_gb.py:1454: DataConversionWarning: A column-vector y was passed when a 1d array was expected. Please change the shape of y to (n_samples, ), for example using ravel().\n",
      "  y = column_or_1d(y, warn=True)\n",
      "C:\\Users\\Laboratorios FICB\\anaconda3\\lib\\site-packages\\sklearn\\ensemble\\_gb.py:1454: DataConversionWarning: A column-vector y was passed when a 1d array was expected. Please change the shape of y to (n_samples, ), for example using ravel().\n",
      "  y = column_or_1d(y, warn=True)\n",
      "C:\\Users\\Laboratorios FICB\\anaconda3\\lib\\site-packages\\sklearn\\ensemble\\_gb.py:1454: DataConversionWarning: A column-vector y was passed when a 1d array was expected. Please change the shape of y to (n_samples, ), for example using ravel().\n",
      "  y = column_or_1d(y, warn=True)\n",
      "C:\\Users\\Laboratorios FICB\\anaconda3\\lib\\site-packages\\sklearn\\ensemble\\_gb.py:1454: DataConversionWarning: A column-vector y was passed when a 1d array was expected. Please change the shape of y to (n_samples, ), for example using ravel().\n",
      "  y = column_or_1d(y, warn=True)\n",
      "C:\\Users\\Laboratorios FICB\\anaconda3\\lib\\site-packages\\sklearn\\ensemble\\_gb.py:1454: DataConversionWarning: A column-vector y was passed when a 1d array was expected. Please change the shape of y to (n_samples, ), for example using ravel().\n",
      "  y = column_or_1d(y, warn=True)\n",
      "C:\\Users\\Laboratorios FICB\\anaconda3\\lib\\site-packages\\sklearn\\ensemble\\_gb.py:1454: DataConversionWarning: A column-vector y was passed when a 1d array was expected. Please change the shape of y to (n_samples, ), for example using ravel().\n",
      "  y = column_or_1d(y, warn=True)\n",
      "C:\\Users\\Laboratorios FICB\\anaconda3\\lib\\site-packages\\sklearn\\ensemble\\_gb.py:1454: DataConversionWarning: A column-vector y was passed when a 1d array was expected. Please change the shape of y to (n_samples, ), for example using ravel().\n",
      "  y = column_or_1d(y, warn=True)\n",
      "C:\\Users\\Laboratorios FICB\\anaconda3\\lib\\site-packages\\sklearn\\ensemble\\_gb.py:1454: DataConversionWarning: A column-vector y was passed when a 1d array was expected. Please change the shape of y to (n_samples, ), for example using ravel().\n",
      "  y = column_or_1d(y, warn=True)\n",
      "C:\\Users\\Laboratorios FICB\\anaconda3\\lib\\site-packages\\sklearn\\ensemble\\_gb.py:1454: DataConversionWarning: A column-vector y was passed when a 1d array was expected. Please change the shape of y to (n_samples, ), for example using ravel().\n",
      "  y = column_or_1d(y, warn=True)\n",
      "C:\\Users\\Laboratorios FICB\\anaconda3\\lib\\site-packages\\sklearn\\ensemble\\_gb.py:1454: DataConversionWarning: A column-vector y was passed when a 1d array was expected. Please change the shape of y to (n_samples, ), for example using ravel().\n",
      "  y = column_or_1d(y, warn=True)\n"
     ]
    },
    {
     "data": {
      "text/plain": [
       "90216770.30427842"
      ]
     },
     "execution_count": 333,
     "metadata": {},
     "output_type": "execute_result"
    }
   ],
   "source": [
    "croossKG(ne=50)"
   ]
  },
  {
   "cell_type": "code",
   "execution_count": 210,
   "metadata": {},
   "outputs": [
    {
     "data": {
      "text/plain": [
       "86847767.72034425"
      ]
     },
     "execution_count": 210,
     "metadata": {},
     "output_type": "execute_result"
    }
   ],
   "source": [
    "#creación modelo\n",
    "regr_1 = DecisionTreeRegressor(max_depth=2)\n",
    "#entrenamiento modelo\n",
    "regr_1.fit(X, y)\n",
    "#predicción\n",
    "y_1 = regr_1.predict(X_test)\n",
    "y_2 = pd.DataFrame({'Price1': y_1}, index = X_test.index)\n",
    "#calculo mse\n",
    "mse = np.mean((y_test['Price']-y_2['Price1'])**2)\n",
    "mse"
   ]
  },
  {
   "cell_type": "code",
   "execution_count": 88,
   "metadata": {},
   "outputs": [
    {
     "name": "stdout",
     "output_type": "stream",
     "text": [
      "train: [    0     1     4 ... 49997 49998 49999], test: [    2     3     8 ... 49983 49986 49995]\n",
      "train: [    1     2     3 ... 49995 49998 49999], test: [    0     4     6 ... 49994 49996 49997]\n",
      "train: [    0     2     3 ... 49995 49996 49997], test: [    1     5     9 ... 49993 49998 49999]\n"
     ]
    }
   ],
   "source": [
    "    \n",
    "    \n",
    "np.random.choice(a=n_samples, size=n_samples, replace=False"
   ]
  },
  {
   "cell_type": "markdown",
   "metadata": {},
   "source": [
    "# Exercise P2.2 (50%)\n",
    "\n",
    "Create an API of the model.\n",
    "\n",
    "Example:\n",
    "![](https://raw.githubusercontent.com/albahnsen/PracticalMachineLearningClass/master/notebooks/images/img015.PNG)\n",
    "\n",
    "#### Evaluation:\n",
    "- 40% - API hosted on a cloud service\n",
    "- 10% - Show screenshots of the model doing the predictions on the local machine\n"
   ]
  }
 ],
 "metadata": {
  "kernelspec": {
   "display_name": "Python 3",
   "language": "python",
   "name": "python3"
  },
  "language_info": {
   "codemirror_mode": {
    "name": "ipython",
    "version": 3
   },
   "file_extension": ".py",
   "mimetype": "text/x-python",
   "name": "python",
   "nbconvert_exporter": "python",
   "pygments_lexer": "ipython3",
   "version": "3.7.6"
  }
 },
 "nbformat": 4,
 "nbformat_minor": 4
}
